{
 "cells": [
  {
   "cell_type": "code",
   "execution_count": null,
   "id": "221ddbe1",
   "metadata": {},
   "outputs": [],
   "source": [
    "import itertools\n",
    "from collections import Counter\n",
    "\n",
    "import numpy as np\n",
    "import matplotlib.pyplot as plt\n",
    "from skimage import data\n",
    "from skimage.util import view_as_blocks\n",
    "from skimage.color import rgb2gray\n",
    "from skimage.metrics import peak_signal_noise_ratio as psnr, structural_similarity as ssim\n",
    "from scipy.fftpack import dct, idct\n",
    "\n",
    "import rle\n",
    "import huffman"
   ]
  },
  {
   "cell_type": "code",
   "execution_count": null,
   "id": "4fb13a7f",
   "metadata": {},
   "outputs": [],
   "source": [
    "block_shape = (8, 8)\n",
    "\n",
    "chelsea = data.chelsea()\n",
    "chelsea = np.rint(rgb2gray(chelsea) * 255).astype(np.uint8)\n",
    "\n",
    "height = chelsea.shape[0] // block_shape[0] * block_shape[0]\n",
    "width = chelsea.shape[1] // block_shape[1] * block_shape[1]\n",
    "\n",
    "chelsea = chelsea[:height, :width]"
   ]
  },
  {
   "cell_type": "code",
   "execution_count": null,
   "id": "12a15863",
   "metadata": {},
   "outputs": [],
   "source": [
    "plt.imshow(chelsea, cmap='gray')"
   ]
  },
  {
   "cell_type": "code",
   "execution_count": null,
   "id": "5bc42001",
   "metadata": {},
   "outputs": [],
   "source": [
    "def filesize(array):\n",
    "    kb = 1024\n",
    "    \n",
    "    bytes_count = len(bytearray(array))\n",
    "    return str(bytes_count // kb) + ' kb'"
   ]
  },
  {
   "cell_type": "code",
   "execution_count": null,
   "id": "9a037a3d",
   "metadata": {},
   "outputs": [],
   "source": [
    "filesize(chelsea)"
   ]
  },
  {
   "cell_type": "code",
   "execution_count": null,
   "id": "c8de1661",
   "metadata": {},
   "outputs": [],
   "source": [
    "def dct2d(array):\n",
    "    return dct(dct(array, norm='ortho', axis=-1), norm='ortho', axis=-2)\n",
    "\n",
    "def idct2d(array):\n",
    "    return idct(idct(array, norm='ortho', axis=-1), norm='ortho', axis=-2)"
   ]
  },
  {
   "cell_type": "code",
   "execution_count": null,
   "id": "5bcb386e",
   "metadata": {},
   "outputs": [],
   "source": [
    "quantization_table = np.array([\n",
    "    [16,  11,  10,  16,  24,   40,   51,   61 ],\n",
    "    [12,  12,  14,  19,  26,   58,   60,   55 ],\n",
    "    [14,  13,  16,  24,  40,   57,   69,   56 ],\n",
    "    [14,  17,  22,  29,  51,   87,   80,   62 ],\n",
    "    [18,  22,  37,  56,  68,   109,  103,  77 ],\n",
    "    [24,  35,  55,  64,  81,   104,  113,  92 ],\n",
    "    [49,  64,  78,  87,  103,  121,  120,  101],\n",
    "    [72,  92,  95,  98,  112,  100,  103,  99 ]])"
   ]
  },
  {
   "cell_type": "code",
   "execution_count": null,
   "id": "584b9f6c",
   "metadata": {},
   "outputs": [],
   "source": [
    "def quantize_block(block):\n",
    "    coefs = dct2d(block) / quantization_table\n",
    "    \n",
    "    return np.rint(coefs + 127).clip(0, 255).astype(np.uint8)\n",
    "\n",
    "def restore_block(block):\n",
    "    return np.rint(idct2d((block.astype(np.int8) - 127) * quantization_table)).clip(0, 255).astype(np.uint8)"
   ]
  },
  {
   "cell_type": "code",
   "execution_count": null,
   "id": "580a79a1",
   "metadata": {},
   "outputs": [],
   "source": [
    "# TODO : zeros instead 127 ??"
   ]
  },
  {
   "cell_type": "code",
   "execution_count": null,
   "id": "f0441500",
   "metadata": {},
   "outputs": [],
   "source": [
    "compressed = chelsea.copy()\n",
    "view = view_as_blocks(compressed, block_shape)"
   ]
  },
  {
   "cell_type": "code",
   "execution_count": null,
   "id": "d3f80fae",
   "metadata": {},
   "outputs": [],
   "source": [
    "coefs = np.zeros_like(view, dtype=np.uint8)\n",
    "\n",
    "for row in range(view.shape[0]):\n",
    "    for col in range(view.shape[1]):\n",
    "        coefs[row][col] = quantize_block(view[row][col])"
   ]
  },
  {
   "cell_type": "code",
   "execution_count": null,
   "id": "43aa245d",
   "metadata": {},
   "outputs": [],
   "source": [
    "zigzag = np.array(\n",
    "    [[0,  1,  5,  6,  14, 15, 27, 28],\n",
    "    [2,  4,  7,  13, 16, 26, 29, 42],\n",
    "    [3,  8,  12, 17, 25, 30, 41, 43],\n",
    "    [9,  11, 18, 24, 31, 40, 44,53],\n",
    "    [10, 19, 23, 32, 39, 45, 52,54],\n",
    "    [20, 22, 33, 38, 46, 51, 55,60],\n",
    "    [21, 34, 37, 47, 50, 56, 59,61],\n",
    "    [35, 36, 48, 49, 57, 58, 62,63]])"
   ]
  },
  {
   "cell_type": "code",
   "execution_count": null,
   "id": "c2b11bc8",
   "metadata": {},
   "outputs": [],
   "source": [
    "compressed_data = rle.code(coefs.flatten())  # TODO: zigzag instead flatten"
   ]
  },
  {
   "cell_type": "code",
   "execution_count": null,
   "id": "43831d2d",
   "metadata": {
    "scrolled": true
   },
   "outputs": [],
   "source": [
    "filesize(compressed_data)"
   ]
  },
  {
   "cell_type": "code",
   "execution_count": null,
   "id": "2870f618",
   "metadata": {},
   "outputs": [],
   "source": [
    "codes = huffman.codes(Counter(compressed_data))"
   ]
  },
  {
   "cell_type": "code",
   "execution_count": null,
   "id": "64ed153a",
   "metadata": {},
   "outputs": [],
   "source": [
    "length, coded_compressed_data = huffman.code(compressed_data, codes)"
   ]
  },
  {
   "cell_type": "code",
   "execution_count": null,
   "id": "441f6369",
   "metadata": {
    "scrolled": false
   },
   "outputs": [],
   "source": [
    "filesize(coded_compressed_data)"
   ]
  },
  {
   "cell_type": "code",
   "execution_count": null,
   "id": "d40d885d",
   "metadata": {},
   "outputs": [],
   "source": [
    "decoded_compressed_data = huffman.decode(coded_compressed_data, codes, length)"
   ]
  },
  {
   "cell_type": "code",
   "execution_count": null,
   "id": "0ec38fee",
   "metadata": {},
   "outputs": [],
   "source": [
    "view = np.array(rle.decode(decoded_compressed_data)).reshape(height // block_shape[0], width // block_shape[1], *block_shape)"
   ]
  },
  {
   "cell_type": "code",
   "execution_count": null,
   "id": "84ac2e6d",
   "metadata": {},
   "outputs": [],
   "source": [
    "decompressed = np.zeros((height, width), dtype=np.uint8)\n",
    "decompressed_view = view_as_blocks(decompressed, block_shape)\n",
    "\n",
    "for row in range(view.shape[0]):\n",
    "    for col in range(view.shape[1]):\n",
    "        decompressed_view[row][col] = restore_block(view[row][col])"
   ]
  },
  {
   "cell_type": "code",
   "execution_count": null,
   "id": "0f467393",
   "metadata": {},
   "outputs": [],
   "source": [
    "plt.imshow(decompressed, cmap='gray')"
   ]
  },
  {
   "cell_type": "code",
   "execution_count": null,
   "id": "cd534187",
   "metadata": {},
   "outputs": [],
   "source": [
    "psnr(chelsea, decompressed)"
   ]
  },
  {
   "cell_type": "code",
   "execution_count": null,
   "id": "55c71929",
   "metadata": {},
   "outputs": [],
   "source": [
    "ssim(chelsea, decompressed)"
   ]
  },
  {
   "cell_type": "code",
   "execution_count": null,
   "id": "092f5768",
   "metadata": {},
   "outputs": [],
   "source": []
  }
 ],
 "metadata": {
  "kernelspec": {
   "display_name": "Python 3",
   "language": "python",
   "name": "python3"
  },
  "language_info": {
   "codemirror_mode": {
    "name": "ipython",
    "version": 3
   },
   "file_extension": ".py",
   "mimetype": "text/x-python",
   "name": "python",
   "nbconvert_exporter": "python",
   "pygments_lexer": "ipython3",
   "version": "3.9.5"
  }
 },
 "nbformat": 4,
 "nbformat_minor": 5
}
